{
 "cells": [
  {
   "cell_type": "markdown",
   "metadata": {},
   "source": [
    "## Goals\n",
    "\n",
    "In this guided project, we'll work with data scraped from `Wikipedia`. Volunteer content contributors and editors maintain Wikipedia by continuously improving content. \n",
    "\n",
    "We'll implement a simplified version of the `grep` command-line utility to search for data in `54` megabytes worth of articles. If you're not familiar with the grep command, the grep utility essentially allows searching for textual data in all files from a given directory.\n",
    "\n",
    "- Search for all occurrences of a string in all of the files.\n",
    "- Provide a case-insensitive option to the search.\n",
    "- Refine the result by providing the specific locations of the files.\n",
    "\n",
    "## Data\n",
    "\n",
    "Articles were saved using the last component of their URLs. For example, a page on Wikipedia has the URL structure https://en.wikipedia.org/wiki/Yarkant_County. If we were saving the article with the previous URL, we'd save it to the file Yarkant_County.html. All the data files are in the wiki folder. Note that the files are raw HTML — We don't need to understand HTML for this guided project. We're going to treat those files like plain-text and we won't rely on any of the specific structure of those files."
   ]
  },
  {
   "cell_type": "markdown",
   "metadata": {},
   "source": [
    "# 1. Introducing to Wikipedia Data\n"
   ]
  },
  {
   "cell_type": "code",
   "execution_count": 1,
   "metadata": {},
   "outputs": [],
   "source": [
    "# import libraries\n",
    "import os\n",
    "import math\n",
    "import functools\n",
    "from multiprocessing import Pool"
   ]
  },
  {
   "cell_type": "code",
   "execution_count": 2,
   "metadata": {},
   "outputs": [
    {
     "name": "stdout",
     "output_type": "stream",
     "text": [
      "999\n"
     ]
    }
   ],
   "source": [
    "# List all of the files in the wiki folder.\n",
    "\n",
    "folder_name = \"wiki\"\n",
    "file_names = os.listdir(folder_name)\n",
    "# print(file_names)\n",
    "\n",
    "# Count and display the number of files in the wiki folder.\n",
    "\n",
    "n_files = len(file_names)\n",
    "print(n_files)"
   ]
  },
  {
   "cell_type": "code",
   "execution_count": 3,
   "metadata": {},
   "outputs": [],
   "source": [
    "# Read the first file in the wiki folder, and print its contents.\n",
    "\n",
    "with open(os.path.join(folder_name, file_names[0])) as f:\n",
    "    lines= [line for line in f.readlines()]\n",
    "#     print(lines)"
   ]
  },
  {
   "cell_type": "markdown",
   "metadata": {},
   "source": [
    "# 2. Adding the MapReduce Framework"
   ]
  },
  {
   "cell_type": "code",
   "execution_count": 4,
   "metadata": {},
   "outputs": [],
   "source": [
    "def make_chunks(data, num_chunks):\n",
    "    chunk_size = math.ceil(len(data) / num_chunks)\n",
    "    return [data[i:i+chunk_size] for i in range(0, len(data), chunk_size)]\n",
    "\n",
    "def map_reduce(data, num_processes, mapper, reducer):\n",
    "    chunks = make_chunks(data, num_processes)\n",
    "    with Pool(num_processes) as pool:\n",
    "        chunk_results = pool.map(mapper, chunks)\n",
    "    return functools.reduce(reducer, chunk_results)"
   ]
  },
  {
   "cell_type": "markdown",
   "metadata": {},
   "source": [
    "# Count the total number of lines in all files. \n",
    "\n",
    "Bonus: Use MapReduce for this step."
   ]
  },
  {
   "cell_type": "code",
   "execution_count": 5,
   "metadata": {},
   "outputs": [
    {
     "data": {
      "text/plain": [
       "499797"
      ]
     },
     "execution_count": 5,
     "metadata": {},
     "output_type": "execute_result"
    }
   ],
   "source": [
    "def map_line_count(file_names):\n",
    "    total = 0\n",
    "    for fn in file_names:\n",
    "        with open(os.path.join(folder_name, fn)) as f:\n",
    "            total += len(f.readlines())\n",
    "    return total\n",
    "\n",
    "def reduce_line_count(count1, count2):\n",
    "    return count1 + count2\n",
    "\n",
    "map_reduce(file_names, 8, map_line_count, reduce_line_count)"
   ]
  },
  {
   "cell_type": "markdown",
   "metadata": {},
   "source": [
    "# 3. Grep Exact Match\n",
    "- Use MapReduce to create a function that, given a string, creates a dictionary where the keys are the file names and the values are lists with all line indexes that contain the given string.\n",
    "\n",
    "- Use the function to find all occurrences of the string `\"data\"` in the files stored in the `wiki` folder."
   ]
  },
  {
   "cell_type": "code",
   "execution_count": 6,
   "metadata": {},
   "outputs": [
    {
     "data": {
      "text/plain": [
       "999"
      ]
     },
     "execution_count": 6,
     "metadata": {},
     "output_type": "execute_result"
    }
   ],
   "source": [
    "target = \"data\"\n",
    "\n",
    "def map_grep(file_names):\n",
    "    grep = {}\n",
    "    for fn in file_names:\n",
    "        with open(os.path.join(folder_name, fn)) as f:\n",
    "            lines = [line for line in f.readlines()]\n",
    "        for idx, line in enumerate(lines):\n",
    "            if target in line:\n",
    "                if fn not in grep:\n",
    "                    grep[fn] = []\n",
    "                grep[fn].append(idx)\n",
    "    return grep\n",
    "\n",
    "def reduce_grep(line1, line2):\n",
    "    line1.update(line2)\n",
    "    return line1\n",
    "\n",
    "grep_v1 = map_reduce(file_names, 8, map_grep, reduce_grep)\n",
    "len(grep_v1)"
   ]
  },
  {
   "cell_type": "markdown",
   "metadata": {},
   "source": [
    "# 4. Grep Case Insensitive\n"
   ]
  },
  {
   "cell_type": "code",
   "execution_count": 7,
   "metadata": {},
   "outputs": [
    {
     "data": {
      "text/plain": [
       "999"
      ]
     },
     "execution_count": 7,
     "metadata": {},
     "output_type": "execute_result"
    }
   ],
   "source": [
    "target = \"data\"\n",
    "\n",
    "def map_grep_insensitive(file_names):\n",
    "    grep = {}\n",
    "    for fn in file_names:\n",
    "        with open(os.path.join(folder_name, fn)) as f:\n",
    "            lines = [line for line in f.readlines()]\n",
    "        for idx, line in enumerate(lines):\n",
    "            if target.lower() in line:\n",
    "                if fn not in grep:\n",
    "                    grep[fn] = []\n",
    "                grep[fn].append(idx)\n",
    "    return grep\n",
    "\n",
    "grep_v2 = map_reduce(file_names, 8, map_grep_insensitive, reduce_grep)\n",
    "len(grep_v2)"
   ]
  },
  {
   "cell_type": "markdown",
   "metadata": {},
   "source": [
    "# 5. Checking the Implementation\n",
    "\n",
    "Let's verify that the new implementation works by seeing if it finds more matches than the previous implementation.\n",
    "\n",
    "- Store the results of the search for the string \"data\" with both versions of the algorithms into variables.\n",
    "\n",
    "- For each file, if there are more matches in the case insensitive result, print the file name new together with the number of new matches."
   ]
  },
  {
   "cell_type": "code",
   "execution_count": 8,
   "metadata": {},
   "outputs": [],
   "source": [
    "file_name = [fn for fn, grep_list in grep_v1.items() if len(grep_list) < len(grep_v2[fn])] "
   ]
  },
  {
   "cell_type": "code",
   "execution_count": 9,
   "metadata": {},
   "outputs": [
    {
     "name": "stdout",
     "output_type": "stream",
     "text": [
      "[]\n"
     ]
    }
   ],
   "source": [
    "print(file_name)"
   ]
  },
  {
   "cell_type": "code",
   "execution_count": 10,
   "metadata": {},
   "outputs": [],
   "source": [
    "for fn in grep_v2:\n",
    "    if fn not in grep_v1:\n",
    "        print(\"Found {} new matches on file {}\".format(len(grep_v2[fn]), fn))\n",
    "    elif len(grep_v2[fn]) > len(grep_v1[fn]):\n",
    "        print(\"Found {} new matches on file {}\".format(len(grep_v2[fn]) - len(grep_v1[fn]), fn))"
   ]
  },
  {
   "cell_type": "code",
   "execution_count": null,
   "metadata": {},
   "outputs": [],
   "source": []
  }
 ],
 "metadata": {
  "kernelspec": {
   "display_name": "Python 3",
   "language": "python",
   "name": "python3"
  },
  "language_info": {
   "codemirror_mode": {
    "name": "ipython",
    "version": 3
   },
   "file_extension": ".py",
   "mimetype": "text/x-python",
   "name": "python",
   "nbconvert_exporter": "python",
   "pygments_lexer": "ipython3",
   "version": "3.8.2"
  }
 },
 "nbformat": 4,
 "nbformat_minor": 1
}
